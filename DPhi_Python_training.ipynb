{
  "nbformat": 4,
  "nbformat_minor": 0,
  "metadata": {
    "colab": {
      "name": "DPhi_Python_training.ipynb",
      "provenance": [],
      "authorship_tag": "ABX9TyPj8/yEG//FlWygvOf++74g",
      "include_colab_link": true
    },
    "kernelspec": {
      "name": "python3",
      "display_name": "Python 3"
    }
  },
  "cells": [
    {
      "cell_type": "markdown",
      "metadata": {
        "id": "view-in-github",
        "colab_type": "text"
      },
      "source": [
        "<a href=\"https://colab.research.google.com/github/datakatha/practice/blob/main/DPhi_Python_training.ipynb\" target=\"_parent\"><img src=\"https://colab.research.google.com/assets/colab-badge.svg\" alt=\"Open In Colab\"/></a>"
      ]
    },
    {
      "cell_type": "code",
      "metadata": {
        "id": "j_8QegkVkbZR"
      },
      "source": [
        "# My First colab notebook code "
      ],
      "execution_count": null,
      "outputs": []
    },
    {
      "cell_type": "code",
      "metadata": {
        "colab": {
          "base_uri": "https://localhost:8080/"
        },
        "id": "wzjYc6ZUkrNN",
        "outputId": "a81c5eb9-e09f-4802-c93b-d1b940bcce86"
      },
      "source": [
        "print(\"Hello, DPhi! Today I have executed my very first Python program. Thanks!\")"
      ],
      "execution_count": null,
      "outputs": [
        {
          "output_type": "stream",
          "text": [
            "Hello, DPhi! Today I have executed my very first Python program. Thanks!\n"
          ],
          "name": "stdout"
        }
      ]
    },
    {
      "cell_type": "code",
      "metadata": {
        "colab": {
          "base_uri": "https://localhost:8080/"
        },
        "id": "DWF0YpwTnSfG",
        "outputId": "c6ae0d7c-d8c4-4269-ef1a-7fd8a214b84b"
      },
      "source": [
        "x = input(\"What is your age?\")"
      ],
      "execution_count": null,
      "outputs": [
        {
          "output_type": "stream",
          "text": [
            "What is your age?41\n"
          ],
          "name": "stdout"
        }
      ]
    },
    {
      "cell_type": "code",
      "metadata": {
        "colab": {
          "base_uri": "https://localhost:8080/"
        },
        "id": "ulAUyBzmnX0D",
        "outputId": "bfe9f9f6-3b1e-49d1-bf78-9148fff33eff"
      },
      "source": [
        "type(x)"
      ],
      "execution_count": null,
      "outputs": [
        {
          "output_type": "execute_result",
          "data": {
            "text/plain": [
              "str"
            ]
          },
          "metadata": {
            "tags": []
          },
          "execution_count": 6
        }
      ]
    },
    {
      "cell_type": "code",
      "metadata": {
        "id": "vXrHVTf0nr-d"
      },
      "source": [
        "x=int(x)"
      ],
      "execution_count": null,
      "outputs": []
    },
    {
      "cell_type": "code",
      "metadata": {
        "colab": {
          "base_uri": "https://localhost:8080/"
        },
        "id": "noJTHXjIn0M7",
        "outputId": "8dce1b66-96d4-4698-cad8-a7a50a61ed68"
      },
      "source": [
        "print(x)"
      ],
      "execution_count": null,
      "outputs": [
        {
          "output_type": "stream",
          "text": [
            "41\n"
          ],
          "name": "stdout"
        }
      ]
    },
    {
      "cell_type": "code",
      "metadata": {
        "colab": {
          "base_uri": "https://localhost:8080/"
        },
        "id": "140Azp6dn2X_",
        "outputId": "6d8d6c96-5cb5-428b-ad15-763ff206c212"
      },
      "source": [
        "type(x)"
      ],
      "execution_count": null,
      "outputs": [
        {
          "output_type": "execute_result",
          "data": {
            "text/plain": [
              "int"
            ]
          },
          "metadata": {
            "tags": []
          },
          "execution_count": 9
        }
      ]
    },
    {
      "cell_type": "code",
      "metadata": {
        "colab": {
          "base_uri": "https://localhost:8080/"
        },
        "id": "s_6A2qF_n4qs",
        "outputId": "02b49fe8-f391-41d9-f071-785a0bfe8f3a"
      },
      "source": [
        "x = 36 / 4 * (3 + 2) * 4 + 2\n",
        "print(x)"
      ],
      "execution_count": null,
      "outputs": [
        {
          "output_type": "stream",
          "text": [
            "182.0\n"
          ],
          "name": "stdout"
        }
      ]
    },
    {
      "cell_type": "code",
      "metadata": {
        "colab": {
          "base_uri": "https://localhost:8080/"
        },
        "id": "_K0_ohleoSpL",
        "outputId": "f69d20fa-2e21-43dc-9514-11e8ba3b963e"
      },
      "source": [
        "print(2*2**3)"
      ],
      "execution_count": null,
      "outputs": [
        {
          "output_type": "stream",
          "text": [
            "16\n"
          ],
          "name": "stdout"
        }
      ]
    },
    {
      "cell_type": "code",
      "metadata": {
        "id": "RCWt_arboksj"
      },
      "source": [
        "a=5"
      ],
      "execution_count": null,
      "outputs": []
    },
    {
      "cell_type": "code",
      "metadata": {
        "id": "30-Tdj88oyqu"
      },
      "source": [
        "b=16"
      ],
      "execution_count": null,
      "outputs": []
    },
    {
      "cell_type": "code",
      "metadata": {
        "id": "2fbfUH4Ao2MX"
      },
      "source": [
        "c=a+b"
      ],
      "execution_count": null,
      "outputs": []
    },
    {
      "cell_type": "code",
      "metadata": {
        "colab": {
          "base_uri": "https://localhost:8080/"
        },
        "id": "A_Xcx3uMo4nO",
        "outputId": "13c7041a-99c2-4ea4-ea2e-6610e527eab7"
      },
      "source": [
        "print(c)"
      ],
      "execution_count": null,
      "outputs": [
        {
          "output_type": "stream",
          "text": [
            "21\n"
          ],
          "name": "stdout"
        }
      ]
    },
    {
      "cell_type": "code",
      "metadata": {
        "colab": {
          "base_uri": "https://localhost:8080/"
        },
        "id": "HaxvM4iHo6Fm",
        "outputId": "95499d6b-4fc0-47ef-e140-20f7d05a31d9"
      },
      "source": [
        "x=input(\"Enter a number-\")"
      ],
      "execution_count": null,
      "outputs": [
        {
          "output_type": "stream",
          "text": [
            "Enter a number-5\n"
          ],
          "name": "stdout"
        }
      ]
    },
    {
      "cell_type": "code",
      "metadata": {
        "id": "oj-4KyR-pHoG"
      },
      "source": [
        "y=int(x)**3"
      ],
      "execution_count": null,
      "outputs": []
    },
    {
      "cell_type": "code",
      "metadata": {
        "colab": {
          "base_uri": "https://localhost:8080/"
        },
        "id": "HVGIjGOMpTjD",
        "outputId": "0f0a8ff9-1dea-4892-daff-d7c40a6f823a"
      },
      "source": [
        "print(\"The cube of \",x,' is ',str(y))"
      ],
      "execution_count": null,
      "outputs": [
        {
          "output_type": "stream",
          "text": [
            "The cube of  5  is  125\n"
          ],
          "name": "stdout"
        }
      ]
    },
    {
      "cell_type": "code",
      "metadata": {
        "colab": {
          "base_uri": "https://localhost:8080/"
        },
        "id": "UcD0qu9GqJVb",
        "outputId": "c2f533d6-b82d-4df6-e131-0b5f43eaf2a0"
      },
      "source": [
        "s = 'Python is easy to learn'\n",
        "print(s[-5:])\n",
        "print(s[16:])"
      ],
      "execution_count": null,
      "outputs": [
        {
          "output_type": "stream",
          "text": [
            "learn\n",
            "o learn\n"
          ],
          "name": "stdout"
        }
      ]
    },
    {
      "cell_type": "code",
      "metadata": {
        "colab": {
          "base_uri": "https://localhost:8080/"
        },
        "id": "bpLDyN35t3rx",
        "outputId": "1c822f50-a6b1-449e-a8f6-e12624c558c5"
      },
      "source": [
        "L = [10, 20, 30, 25, 32, 45, 50]\n",
        "L.append(20)\n",
        "L.append(32)\n",
        "print(L.count(32))"
      ],
      "execution_count": null,
      "outputs": [
        {
          "output_type": "stream",
          "text": [
            "2\n"
          ],
          "name": "stdout"
        }
      ]
    },
    {
      "cell_type": "code",
      "metadata": {
        "colab": {
          "base_uri": "https://localhost:8080/"
        },
        "id": "fr7QJU-t3y9E",
        "outputId": "b0025b8f-1556-4b03-ecf8-03335366919e"
      },
      "source": [
        "tup=(4,5,6,7,8)\n",
        "print(tup[4])"
      ],
      "execution_count": null,
      "outputs": [
        {
          "output_type": "stream",
          "text": [
            "8\n"
          ],
          "name": "stdout"
        }
      ]
    },
    {
      "cell_type": "code",
      "metadata": {
        "id": "4xczv4Pw4EuC",
        "colab": {
          "base_uri": "https://localhost:8080/"
        },
        "outputId": "c10c2250-6bf2-4922-a643-0332d3610808"
      },
      "source": [
        " L1 = [10, 20, 30, 25, 32, 45, 50] \n",
        " L2 = [80, 70, 78, 55, 62]\n",
        " S1=sum(L1)\n",
        " S2=sum(L2)\n",
        " print(S1-S2)"
      ],
      "execution_count": null,
      "outputs": [
        {
          "output_type": "stream",
          "text": [
            "-133\n"
          ],
          "name": "stdout"
        }
      ]
    },
    {
      "cell_type": "code",
      "metadata": {
        "colab": {
          "base_uri": "https://localhost:8080/"
        },
        "id": "QDtEpp1PjtpP",
        "outputId": "1cdd1b5c-f05b-46b8-8481-0a5d8a9204cd"
      },
      "source": [
        "def hi():\n",
        "  print(\"hello\")\n",
        "\n",
        "hi()"
      ],
      "execution_count": null,
      "outputs": [
        {
          "output_type": "stream",
          "text": [
            "hello\n"
          ],
          "name": "stdout"
        }
      ]
    },
    {
      "cell_type": "code",
      "metadata": {
        "colab": {
          "base_uri": "https://localhost:8080/"
        },
        "id": "RIF0MU3qkvTY",
        "outputId": "afe2f98d-8552-4cbb-e9c2-dc768b25137f"
      },
      "source": [
        "def bitcoin_to_USD(btc):\n",
        "  amount = btc*537\n",
        "  print(\"Total $ for \",btc,' bitcoins is :',round(amount,2))\n",
        "\n",
        "bitcoin_to_USD(2.523)"
      ],
      "execution_count": null,
      "outputs": [
        {
          "output_type": "stream",
          "text": [
            "Total $ for  2.523  bitcoins is : 1354.85\n"
          ],
          "name": "stdout"
        }
      ]
    },
    {
      "cell_type": "code",
      "metadata": {
        "id": "EebZKwGIlhse"
      },
      "source": [
        "import numpy"
      ],
      "execution_count": null,
      "outputs": []
    },
    {
      "cell_type": "code",
      "metadata": {
        "id": "GS1nycOyoLQe"
      },
      "source": [
        "import numpy as np"
      ],
      "execution_count": 3,
      "outputs": []
    },
    {
      "cell_type": "code",
      "metadata": {
        "colab": {
          "base_uri": "https://localhost:8080/"
        },
        "id": "_TqThdHuoNky",
        "outputId": "42d7fd44-d731-497a-8919-857b3d16a1e7"
      },
      "source": [
        "def say(message, times=1):\n",
        "  print(message*times)\n",
        "say(\"Hello\")\n",
        "say(\"World\",5)"
      ],
      "execution_count": null,
      "outputs": [
        {
          "output_type": "stream",
          "text": [
            "Hello\n",
            "WorldWorldWorldWorldWorld\n"
          ],
          "name": "stdout"
        }
      ]
    },
    {
      "cell_type": "code",
      "metadata": {
        "colab": {
          "base_uri": "https://localhost:8080/"
        },
        "id": "NfLJIhLeoQbc",
        "outputId": "1f1c1c2b-73e0-4e2f-fbdf-73b84b304571"
      },
      "source": [
        "def fun(x=1,y=2):\n",
        "  x=x+y\n",
        "  y+=1\n",
        "  print(x,y)\n",
        "\n",
        "fun(y=2,x=1)"
      ],
      "execution_count": null,
      "outputs": [
        {
          "output_type": "stream",
          "text": [
            "3 3\n"
          ],
          "name": "stdout"
        }
      ]
    },
    {
      "cell_type": "code",
      "metadata": {
        "id": "Q06XrCampt9U",
        "colab": {
          "base_uri": "https://localhost:8080/"
        },
        "outputId": "e940abfc-7668-4a9a-d5fd-b210657edbd4"
      },
      "source": [
        "#Create a NumPy array of the first five even numbers.\n",
        "import numpy as np\n",
        "count = 0\n",
        "a = np.empty(0,dtype=int)\n",
        "for i in range(1,20):\n",
        "  if i%2 == 0:\n",
        "    count +=1\n",
        "    if count <= 5:\n",
        "      a = np.append(a,i)\n",
        "   \n",
        "print(a)\n",
        "\n",
        "  "
      ],
      "execution_count": 36,
      "outputs": [
        {
          "output_type": "stream",
          "text": [
            "[ 2  4  6  8 10]\n"
          ],
          "name": "stdout"
        }
      ]
    },
    {
      "cell_type": "code",
      "metadata": {
        "colab": {
          "base_uri": "https://localhost:8080/"
        },
        "id": "ESvKedU4iEhP",
        "outputId": "ede9053b-caf9-4f0d-b2af-4e264f74ebe9"
      },
      "source": [
        "a.dtype"
      ],
      "execution_count": 33,
      "outputs": [
        {
          "output_type": "execute_result",
          "data": {
            "text/plain": [
              "dtype('float64')"
            ]
          },
          "metadata": {
            "tags": []
          },
          "execution_count": 33
        }
      ]
    },
    {
      "cell_type": "code",
      "metadata": {
        "colab": {
          "base_uri": "https://localhost:8080/"
        },
        "id": "cWPM4mx0qY3l",
        "outputId": "3c843975-2450-407c-fb17-ecefea80cf83"
      },
      "source": [
        "list = [2, 5, 8, 6, 4, 12, 16, 15]\n",
        "b=np.array(list)\n",
        "b.ndim"
      ],
      "execution_count": 37,
      "outputs": [
        {
          "output_type": "execute_result",
          "data": {
            "text/plain": [
              "1"
            ]
          },
          "metadata": {
            "tags": []
          },
          "execution_count": 37
        }
      ]
    },
    {
      "cell_type": "code",
      "metadata": {
        "colab": {
          "base_uri": "https://localhost:8080/"
        },
        "id": "OPmtpRjEv5ie",
        "outputId": "2ea9b142-5797-4e30-a6c4-9cff36b33df8"
      },
      "source": [
        "c = np.linspace(17,31)\n",
        "c"
      ],
      "execution_count": 38,
      "outputs": [
        {
          "output_type": "execute_result",
          "data": {
            "text/plain": [
              "array([17.        , 17.28571429, 17.57142857, 17.85714286, 18.14285714,\n",
              "       18.42857143, 18.71428571, 19.        , 19.28571429, 19.57142857,\n",
              "       19.85714286, 20.14285714, 20.42857143, 20.71428571, 21.        ,\n",
              "       21.28571429, 21.57142857, 21.85714286, 22.14285714, 22.42857143,\n",
              "       22.71428571, 23.        , 23.28571429, 23.57142857, 23.85714286,\n",
              "       24.14285714, 24.42857143, 24.71428571, 25.        , 25.28571429,\n",
              "       25.57142857, 25.85714286, 26.14285714, 26.42857143, 26.71428571,\n",
              "       27.        , 27.28571429, 27.57142857, 27.85714286, 28.14285714,\n",
              "       28.42857143, 28.71428571, 29.        , 29.28571429, 29.57142857,\n",
              "       29.85714286, 30.14285714, 30.42857143, 30.71428571, 31.        ])"
            ]
          },
          "metadata": {
            "tags": []
          },
          "execution_count": 38
        }
      ]
    },
    {
      "cell_type": "code",
      "metadata": {
        "id": "ZhX8dpPUwDEL"
      },
      "source": [
        "L = [10, 2, 7, 8, 3, 22, 54, 12, 13, 46, 23, 25, 41]\n"
      ],
      "execution_count": 50,
      "outputs": []
    },
    {
      "cell_type": "code",
      "metadata": {
        "colab": {
          "base_uri": "https://localhost:8080/"
        },
        "id": "1lEb89pN1PZA",
        "outputId": "86d0a449-8b42-4902-c495-838ff77e87b1"
      },
      "source": [
        "a = np.array(L)\n",
        "a\n"
      ],
      "execution_count": 51,
      "outputs": [
        {
          "output_type": "execute_result",
          "data": {
            "text/plain": [
              "array([10,  2,  7,  8,  3, 22, 54, 12, 13, 46, 23, 25, 41])"
            ]
          },
          "metadata": {
            "tags": []
          },
          "execution_count": 51
        }
      ]
    },
    {
      "cell_type": "code",
      "metadata": {
        "colab": {
          "base_uri": "https://localhost:8080/"
        },
        "id": "gC9Tttjv1Rd4",
        "outputId": "bf465f1e-0239-4221-ca58-28f6ece45982"
      },
      "source": [
        "a.sort()\n",
        "a"
      ],
      "execution_count": 52,
      "outputs": [
        {
          "output_type": "execute_result",
          "data": {
            "text/plain": [
              "array([ 2,  3,  7,  8, 10, 12, 13, 22, 23, 25, 41, 46, 54])"
            ]
          },
          "metadata": {
            "tags": []
          },
          "execution_count": 52
        }
      ]
    },
    {
      "cell_type": "code",
      "metadata": {
        "colab": {
          "base_uri": "https://localhost:8080/"
        },
        "id": "j3nVBfze1Tzi",
        "outputId": "7b653985-441c-466c-931c-ebf236628e00"
      },
      "source": [
        "b=np.delete(a,4)\n",
        "b"
      ],
      "execution_count": 53,
      "outputs": [
        {
          "output_type": "execute_result",
          "data": {
            "text/plain": [
              "array([ 2,  3,  7,  8, 12, 13, 22, 23, 25, 41, 46, 54])"
            ]
          },
          "metadata": {
            "tags": []
          },
          "execution_count": 53
        }
      ]
    },
    {
      "cell_type": "code",
      "metadata": {
        "colab": {
          "base_uri": "https://localhost:8080/"
        },
        "id": "D1zge3g51YcG",
        "outputId": "ab98a212-3269-42bf-c400-0d1d0533e338"
      },
      "source": [
        "c=np.array(L)\n",
        "c\n",
        "c=np.append(c,53)\n",
        "c"
      ],
      "execution_count": 47,
      "outputs": [
        {
          "output_type": "execute_result",
          "data": {
            "text/plain": [
              "array([10,  2,  7,  8,  3, 22, 54, 12, 13, 46, 23, 25, 41, 53])"
            ]
          },
          "metadata": {
            "tags": []
          },
          "execution_count": 47
        }
      ]
    },
    {
      "cell_type": "code",
      "metadata": {
        "colab": {
          "base_uri": "https://localhost:8080/"
        },
        "id": "On2KxKG03dgq",
        "outputId": "26d22610-2e88-4d6b-922d-b6b7fd04ae91"
      },
      "source": [
        "c.reshape((2,7))"
      ],
      "execution_count": 48,
      "outputs": [
        {
          "output_type": "execute_result",
          "data": {
            "text/plain": [
              "array([[10,  2,  7,  8,  3, 22, 54],\n",
              "       [12, 13, 46, 23, 25, 41, 53]])"
            ]
          },
          "metadata": {
            "tags": []
          },
          "execution_count": 48
        }
      ]
    },
    {
      "cell_type": "code",
      "metadata": {
        "colab": {
          "base_uri": "https://localhost:8080/"
        },
        "id": "CAydHVul3pkM",
        "outputId": "ac4f248e-fb31-45ad-c4b2-34850455c29e"
      },
      "source": [
        "c.reshape((7,2))"
      ],
      "execution_count": 49,
      "outputs": [
        {
          "output_type": "execute_result",
          "data": {
            "text/plain": [
              "array([[10,  2],\n",
              "       [ 7,  8],\n",
              "       [ 3, 22],\n",
              "       [54, 12],\n",
              "       [13, 46],\n",
              "       [23, 25],\n",
              "       [41, 53]])"
            ]
          },
          "metadata": {
            "tags": []
          },
          "execution_count": 49
        }
      ]
    },
    {
      "cell_type": "code",
      "metadata": {
        "colab": {
          "base_uri": "https://localhost:8080/"
        },
        "id": "q2FDyZiF3xm7",
        "outputId": "7dfce4e1-0382-45af-d8ae-23325e7739c3"
      },
      "source": [
        "c= np.linspace(0,25,num=25,dtype=int)\n",
        "c"
      ],
      "execution_count": 4,
      "outputs": [
        {
          "output_type": "execute_result",
          "data": {
            "text/plain": [
              "array([ 0,  1,  2,  3,  4,  5,  6,  7,  8,  9, 10, 11, 12, 13, 14, 15, 16,\n",
              "       17, 18, 19, 20, 21, 22, 23, 25])"
            ]
          },
          "metadata": {
            "tags": []
          },
          "execution_count": 4
        }
      ]
    },
    {
      "cell_type": "code",
      "metadata": {
        "id": "RncYyXiIAmbv"
      },
      "source": [
        "c=c.reshape(5,5)"
      ],
      "execution_count": 5,
      "outputs": []
    },
    {
      "cell_type": "code",
      "metadata": {
        "colab": {
          "base_uri": "https://localhost:8080/"
        },
        "id": "jYhnJnJaA4jm",
        "outputId": "5ec5a033-9daa-4039-b670-a995596be0c8"
      },
      "source": [
        "c"
      ],
      "execution_count": 66,
      "outputs": [
        {
          "output_type": "execute_result",
          "data": {
            "text/plain": [
              "array([[ 0,  1,  2,  3,  4],\n",
              "       [ 5,  6,  7,  8,  9],\n",
              "       [10, 11, 12, 13, 14],\n",
              "       [15, 16, 17, 18, 19],\n",
              "       [20, 21, 22, 23, 25]])"
            ]
          },
          "metadata": {
            "tags": []
          },
          "execution_count": 66
        }
      ]
    },
    {
      "cell_type": "code",
      "metadata": {
        "colab": {
          "base_uri": "https://localhost:8080/"
        },
        "id": "iT7jAd1EBHY8",
        "outputId": "1fdc97eb-f0b1-4995-e56e-ee8d1d10be12"
      },
      "source": [
        "c[0:2,3:5]"
      ],
      "execution_count": 67,
      "outputs": [
        {
          "output_type": "execute_result",
          "data": {
            "text/plain": [
              "array([[3, 4],\n",
              "       [8, 9]])"
            ]
          },
          "metadata": {
            "tags": []
          },
          "execution_count": 67
        }
      ]
    },
    {
      "cell_type": "code",
      "metadata": {
        "colab": {
          "base_uri": "https://localhost:8080/"
        },
        "id": "bGeuGJkOCwSI",
        "outputId": "677ca4e6-a232-4a55-d0d6-fc9281e5b1db"
      },
      "source": [
        "c[1:5:2,0:5:2]\n"
      ],
      "execution_count": 9,
      "outputs": [
        {
          "output_type": "execute_result",
          "data": {
            "text/plain": [
              "array([[ 5,  7,  9],\n",
              "       [15, 17, 19]])"
            ]
          },
          "metadata": {
            "tags": []
          },
          "execution_count": 9
        }
      ]
    },
    {
      "cell_type": "code",
      "metadata": {
        "id": "B70_A-CcyGkX"
      },
      "source": [
        ""
      ],
      "execution_count": null,
      "outputs": []
    }
  ]
}